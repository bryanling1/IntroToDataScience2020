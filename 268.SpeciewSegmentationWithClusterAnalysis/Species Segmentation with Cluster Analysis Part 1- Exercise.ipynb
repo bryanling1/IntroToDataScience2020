{
 "cells": [
  {
   "cell_type": "markdown",
   "metadata": {},
   "source": [
    "# Species Segmentation with Cluster Analysis"
   ]
  },
  {
   "cell_type": "markdown",
   "metadata": {},
   "source": [
    "The Iris flower dataset is one of the most popular ones for machine learning. You can read a lot about it online and have probably already heard of it: https://en.wikipedia.org/wiki/Iris_flower_data_set\n",
    "\n",
    "We didn't want to use it in the lectures, but believe that it would be very interesting for you to try it out (and maybe read about it on your own).\n",
    "\n",
    "There are 4 features: sepal length, sepal width, petal length, and petal width.\n",
    "\n",
    "Start by creating 2 clusters. Then standardize the data and try again. Does it make a difference?\n",
    "\n",
    "Use the Elbow rule to determine how many clusters are there.\n"
   ]
  },
  {
   "cell_type": "markdown",
   "metadata": {},
   "source": [
    "## Import the relevant libraries"
   ]
  },
  {
   "cell_type": "code",
   "execution_count": 1,
   "metadata": {},
   "outputs": [],
   "source": [
    "import numpy as np\n",
    "import pandas as pd\n",
    "import matplotlib.pyplot as plt\n",
    "from sklearn.cluster import KMeans\n",
    "import seaborn\n",
    "seaborn.set()"
   ]
  },
  {
   "cell_type": "markdown",
   "metadata": {},
   "source": [
    "## Load the data"
   ]
  },
  {
   "cell_type": "markdown",
   "metadata": {},
   "source": [
    "Load data from the csv file: <i> 'iris_dataset.csv'</i>."
   ]
  },
  {
   "cell_type": "code",
   "execution_count": 4,
   "metadata": {},
   "outputs": [
    {
     "data": {
      "text/html": [
       "<div>\n",
       "<style scoped>\n",
       "    .dataframe tbody tr th:only-of-type {\n",
       "        vertical-align: middle;\n",
       "    }\n",
       "\n",
       "    .dataframe tbody tr th {\n",
       "        vertical-align: top;\n",
       "    }\n",
       "\n",
       "    .dataframe thead th {\n",
       "        text-align: right;\n",
       "    }\n",
       "</style>\n",
       "<table border=\"1\" class=\"dataframe\">\n",
       "  <thead>\n",
       "    <tr style=\"text-align: right;\">\n",
       "      <th></th>\n",
       "      <th>sepal_length</th>\n",
       "      <th>sepal_width</th>\n",
       "      <th>petal_length</th>\n",
       "      <th>petal_width</th>\n",
       "    </tr>\n",
       "  </thead>\n",
       "  <tbody>\n",
       "    <tr>\n",
       "      <th>0</th>\n",
       "      <td>5.1</td>\n",
       "      <td>3.5</td>\n",
       "      <td>1.4</td>\n",
       "      <td>0.2</td>\n",
       "    </tr>\n",
       "    <tr>\n",
       "      <th>1</th>\n",
       "      <td>4.9</td>\n",
       "      <td>3.0</td>\n",
       "      <td>1.4</td>\n",
       "      <td>0.2</td>\n",
       "    </tr>\n",
       "    <tr>\n",
       "      <th>2</th>\n",
       "      <td>4.7</td>\n",
       "      <td>3.2</td>\n",
       "      <td>1.3</td>\n",
       "      <td>0.2</td>\n",
       "    </tr>\n",
       "    <tr>\n",
       "      <th>3</th>\n",
       "      <td>4.6</td>\n",
       "      <td>3.1</td>\n",
       "      <td>1.5</td>\n",
       "      <td>0.2</td>\n",
       "    </tr>\n",
       "    <tr>\n",
       "      <th>4</th>\n",
       "      <td>5.0</td>\n",
       "      <td>3.6</td>\n",
       "      <td>1.4</td>\n",
       "      <td>0.2</td>\n",
       "    </tr>\n",
       "  </tbody>\n",
       "</table>\n",
       "</div>"
      ],
      "text/plain": [
       "   sepal_length  sepal_width  petal_length  petal_width\n",
       "0           5.1          3.5           1.4          0.2\n",
       "1           4.9          3.0           1.4          0.2\n",
       "2           4.7          3.2           1.3          0.2\n",
       "3           4.6          3.1           1.5          0.2\n",
       "4           5.0          3.6           1.4          0.2"
      ]
     },
     "execution_count": 4,
     "metadata": {},
     "output_type": "execute_result"
    }
   ],
   "source": [
    "data = pd.read_csv(\"iris-dataset.csv\")\n",
    "data.head()"
   ]
  },
  {
   "cell_type": "markdown",
   "metadata": {},
   "source": [
    "## Plot the data"
   ]
  },
  {
   "cell_type": "markdown",
   "metadata": {},
   "source": [
    "For this exercise, try to cluster the iris flowers by the shape of their sepal. \n",
    "\n",
    "<i> Use the 'sepal_length' and 'sepal_width' variables.</i> "
   ]
  },
  {
   "cell_type": "code",
   "execution_count": 6,
   "metadata": {},
   "outputs": [
    {
     "data": {
      "text/plain": [
       "<matplotlib.collections.PathCollection at 0x1bee70ad648>"
      ]
     },
     "execution_count": 6,
     "metadata": {},
     "output_type": "execute_result"
    },
    {
     "data": {
      "image/png": "[encoded data removed]",
      "text/plain": [
       "<Figure size 432x288 with 1 Axes>"
      ]
     },
     "metadata": {
      "needs_background": "light"
     },
     "output_type": "display_data"
    }
   ],
   "source": [
    "plt.scatter(data[\"sepal_length\"], data[\"sepal_width\"])"
   ]
  },
  {
   "cell_type": "markdown",
   "metadata": {},
   "source": [
    "# Clustering (unscaled data)"
   ]
  },
  {
   "cell_type": "markdown",
   "metadata": {},
   "source": [
    "Separate the original data into 2 clusters."
   ]
  },
  {
   "cell_type": "code",
   "execution_count": 8,
   "metadata": {
    "scrolled": false
   },
   "outputs": [
    {
     "data": {
      "text/html": [
       "<div>\n",
       "<style scoped>\n",
       "    .dataframe tbody tr th:only-of-type {\n",
       "        vertical-align: middle;\n",
       "    }\n",
       "\n",
       "    .dataframe tbody tr th {\n",
       "        vertical-align: top;\n",
       "    }\n",
       "\n",
       "    .dataframe thead th {\n",
       "        text-align: right;\n",
       "    }\n",
       "</style>\n",
       "<table border=\"1\" class=\"dataframe\">\n",
       "  <thead>\n",
       "    <tr style=\"text-align: right;\">\n",
       "      <th></th>\n",
       "      <th>sepal_length</th>\n",
       "      <th>sepal_width</th>\n",
       "    </tr>\n",
       "  </thead>\n",
       "  <tbody>\n",
       "    <tr>\n",
       "      <th>0</th>\n",
       "      <td>5.1</td>\n",
       "      <td>3.5</td>\n",
       "    </tr>\n",
       "    <tr>\n",
       "      <th>1</th>\n",
       "      <td>4.9</td>\n",
       "      <td>3.0</td>\n",
       "    </tr>\n",
       "    <tr>\n",
       "      <th>2</th>\n",
       "      <td>4.7</td>\n",
       "      <td>3.2</td>\n",
       "    </tr>\n",
       "    <tr>\n",
       "      <th>3</th>\n",
       "      <td>4.6</td>\n",
       "      <td>3.1</td>\n",
       "    </tr>\n",
       "    <tr>\n",
       "      <th>4</th>\n",
       "      <td>5.0</td>\n",
       "      <td>3.6</td>\n",
       "    </tr>\n",
       "    <tr>\n",
       "      <th>...</th>\n",
       "      <td>...</td>\n",
       "      <td>...</td>\n",
       "    </tr>\n",
       "    <tr>\n",
       "      <th>145</th>\n",
       "      <td>6.7</td>\n",
       "      <td>3.0</td>\n",
       "    </tr>\n",
       "    <tr>\n",
       "      <th>146</th>\n",
       "      <td>6.3</td>\n",
       "      <td>2.5</td>\n",
       "    </tr>\n",
       "    <tr>\n",
       "      <th>147</th>\n",
       "      <td>6.5</td>\n",
       "      <td>3.0</td>\n",
       "    </tr>\n",
       "    <tr>\n",
       "      <th>148</th>\n",
       "      <td>6.2</td>\n",
       "      <td>3.4</td>\n",
       "    </tr>\n",
       "    <tr>\n",
       "      <th>149</th>\n",
       "      <td>5.9</td>\n",
       "      <td>3.0</td>\n",
       "    </tr>\n",
       "  </tbody>\n",
       "</table>\n",
       "<p>150 rows × 2 columns</p>\n",
       "</div>"
      ],
      "text/plain": [
       "     sepal_length  sepal_width\n",
       "0             5.1          3.5\n",
       "1             4.9          3.0\n",
       "2             4.7          3.2\n",
       "3             4.6          3.1\n",
       "4             5.0          3.6\n",
       "..            ...          ...\n",
       "145           6.7          3.0\n",
       "146           6.3          2.5\n",
       "147           6.5          3.0\n",
       "148           6.2          3.4\n",
       "149           5.9          3.0\n",
       "\n",
       "[150 rows x 2 columns]"
      ]
     },
     "execution_count": 8,
     "metadata": {},
     "output_type": "execute_result"
    }
   ],
   "source": [
    "x = data.iloc[:, 0:2]\n",
    "x"
   ]
  },
  {
   "cell_type": "code",
   "execution_count": 10,
   "metadata": {},
   "outputs": [],
   "source": [
    "kmeans = KMeans(2)\n",
    "kmeans.fit(x)\n",
    "data[\"cluster\"] = kmeans.fit_predict(x)"
   ]
  },
  {
   "cell_type": "code",
   "execution_count": 11,
   "metadata": {},
   "outputs": [
    {
     "data": {
      "text/plain": [
       "<matplotlib.collections.PathCollection at 0x1bee70ad248>"
      ]
     },
     "execution_count": 11,
     "metadata": {},
     "output_type": "execute_result"
    },
    {
     "data": {
      "image/png": "[encoded data removed]",
      "text/plain": [
       "<Figure size 432x288 with 1 Axes>"
      ]
     },
     "metadata": {
      "needs_background": "light"
     },
     "output_type": "display_data"
    }
   ],
   "source": [
    "plt.scatter(data[\"sepal_length\"], data[\"sepal_width\"], c=data[\"cluster\"], cmap=\"rainbow\")"
   ]
  },
  {
   "cell_type": "markdown",
   "metadata": {},
   "source": [
    "# Standardize the variables"
   ]
  },
  {
   "cell_type": "markdown",
   "metadata": {},
   "source": [
    "Import and use the <i> method </i> function from sklearn to standardize the data. "
   ]
  },
  {
   "cell_type": "code",
   "execution_count": 13,
   "metadata": {},
   "outputs": [
    {
     "data": {
      "text/plain": [
       "array([[-0.90068117,  1.03205722],\n",
       "       [-1.14301691, -0.1249576 ],\n",
       "       [-1.38535265,  0.33784833],\n",
       "       [-1.50652052,  0.10644536],\n",
       "       [-1.02184904,  1.26346019],\n",
       "       [-0.53717756,  1.95766909],\n",
       "       [-1.50652052,  0.80065426],\n",
       "       [-1.02184904,  0.80065426],\n",
       "       [-1.74885626, -0.35636057],\n",
       "       [-1.14301691,  0.10644536],\n",
       "       [-0.53717756,  1.49486315],\n",
       "       [-1.26418478,  0.80065426],\n",
       "       [-1.26418478, -0.1249576 ],\n",
       "       [-1.87002413, -0.1249576 ],\n",
       "       [-0.05250608,  2.18907205],\n",
       "       [-0.17367395,  3.11468391],\n",
       "       [-0.53717756,  1.95766909],\n",
       "       [-0.90068117,  1.03205722],\n",
       "       [-0.17367395,  1.72626612],\n",
       "       [-0.90068117,  1.72626612],\n",
       "       [-0.53717756,  0.80065426],\n",
       "       [-0.90068117,  1.49486315],\n",
       "       [-1.50652052,  1.26346019],\n",
       "       [-0.90068117,  0.56925129],\n",
       "       [-1.26418478,  0.80065426],\n",
       "       [-1.02184904, -0.1249576 ],\n",
       "       [-1.02184904,  0.80065426],\n",
       "       [-0.7795133 ,  1.03205722],\n",
       "       [-0.7795133 ,  0.80065426],\n",
       "       [-1.38535265,  0.33784833],\n",
       "       [-1.26418478,  0.10644536],\n",
       "       [-0.53717756,  0.80065426],\n",
       "       [-0.7795133 ,  2.42047502],\n",
       "       [-0.41600969,  2.65187798],\n",
       "       [-1.14301691,  0.10644536],\n",
       "       [-1.02184904,  0.33784833],\n",
       "       [-0.41600969,  1.03205722],\n",
       "       [-1.14301691,  0.10644536],\n",
       "       [-1.74885626, -0.1249576 ],\n",
       "       [-0.90068117,  0.80065426],\n",
       "       [-1.02184904,  1.03205722],\n",
       "       [-1.62768839, -1.74477836],\n",
       "       [-1.74885626,  0.33784833],\n",
       "       [-1.02184904,  1.03205722],\n",
       "       [-0.90068117,  1.72626612],\n",
       "       [-1.26418478, -0.1249576 ],\n",
       "       [-0.90068117,  1.72626612],\n",
       "       [-1.50652052,  0.33784833],\n",
       "       [-0.65834543,  1.49486315],\n",
       "       [-1.02184904,  0.56925129],\n",
       "       [ 1.40150837,  0.33784833],\n",
       "       [ 0.67450115,  0.33784833],\n",
       "       [ 1.2803405 ,  0.10644536],\n",
       "       [-0.41600969, -1.74477836],\n",
       "       [ 0.79566902, -0.58776353],\n",
       "       [-0.17367395, -0.58776353],\n",
       "       [ 0.55333328,  0.56925129],\n",
       "       [-1.14301691, -1.51337539],\n",
       "       [ 0.91683689, -0.35636057],\n",
       "       [-0.7795133 , -0.8191665 ],\n",
       "       [-1.02184904, -2.43898725],\n",
       "       [ 0.06866179, -0.1249576 ],\n",
       "       [ 0.18982966, -1.97618132],\n",
       "       [ 0.31099753, -0.35636057],\n",
       "       [-0.29484182, -0.35636057],\n",
       "       [ 1.03800476,  0.10644536],\n",
       "       [-0.29484182, -0.1249576 ],\n",
       "       [-0.05250608, -0.8191665 ],\n",
       "       [ 0.4321654 , -1.97618132],\n",
       "       [-0.29484182, -1.28197243],\n",
       "       [ 0.06866179,  0.33784833],\n",
       "       [ 0.31099753, -0.58776353],\n",
       "       [ 0.55333328, -1.28197243],\n",
       "       [ 0.31099753, -0.58776353],\n",
       "       [ 0.67450115, -0.35636057],\n",
       "       [ 0.91683689, -0.1249576 ],\n",
       "       [ 1.15917263, -0.58776353],\n",
       "       [ 1.03800476, -0.1249576 ],\n",
       "       [ 0.18982966, -0.35636057],\n",
       "       [-0.17367395, -1.05056946],\n",
       "       [-0.41600969, -1.51337539],\n",
       "       [-0.41600969, -1.51337539],\n",
       "       [-0.05250608, -0.8191665 ],\n",
       "       [ 0.18982966, -0.8191665 ],\n",
       "       [-0.53717756, -0.1249576 ],\n",
       "       [ 0.18982966,  0.80065426],\n",
       "       [ 1.03800476,  0.10644536],\n",
       "       [ 0.55333328, -1.74477836],\n",
       "       [-0.29484182, -0.1249576 ],\n",
       "       [-0.41600969, -1.28197243],\n",
       "       [-0.41600969, -1.05056946],\n",
       "       [ 0.31099753, -0.1249576 ],\n",
       "       [-0.05250608, -1.05056946],\n",
       "       [-1.02184904, -1.74477836],\n",
       "       [-0.29484182, -0.8191665 ],\n",
       "       [-0.17367395, -0.1249576 ],\n",
       "       [-0.17367395, -0.35636057],\n",
       "       [ 0.4321654 , -0.35636057],\n",
       "       [-0.90068117, -1.28197243],\n",
       "       [-0.17367395, -0.58776353],\n",
       "       [ 0.55333328,  0.56925129],\n",
       "       [-0.05250608, -0.8191665 ],\n",
       "       [ 1.52267624, -0.1249576 ],\n",
       "       [ 0.55333328, -0.35636057],\n",
       "       [ 0.79566902, -0.1249576 ],\n",
       "       [ 2.12851559, -0.1249576 ],\n",
       "       [-1.14301691, -1.28197243],\n",
       "       [ 1.76501198, -0.35636057],\n",
       "       [ 1.03800476, -1.28197243],\n",
       "       [ 1.64384411,  1.26346019],\n",
       "       [ 0.79566902,  0.33784833],\n",
       "       [ 0.67450115, -0.8191665 ],\n",
       "       [ 1.15917263, -0.1249576 ],\n",
       "       [-0.17367395, -1.28197243],\n",
       "       [-0.05250608, -0.58776353],\n",
       "       [ 0.67450115,  0.33784833],\n",
       "       [ 0.79566902, -0.1249576 ],\n",
       "       [ 2.24968346,  1.72626612],\n",
       "       [ 2.24968346, -1.05056946],\n",
       "       [ 0.18982966, -1.97618132],\n",
       "       [ 1.2803405 ,  0.33784833],\n",
       "       [-0.29484182, -0.58776353],\n",
       "       [ 2.24968346, -0.58776353],\n",
       "       [ 0.55333328, -0.8191665 ],\n",
       "       [ 1.03800476,  0.56925129],\n",
       "       [ 1.64384411,  0.33784833],\n",
       "       [ 0.4321654 , -0.58776353],\n",
       "       [ 0.31099753, -0.1249576 ],\n",
       "       [ 0.67450115, -0.58776353],\n",
       "       [ 1.64384411, -0.1249576 ],\n",
       "       [ 1.88617985, -0.58776353],\n",
       "       [ 2.4920192 ,  1.72626612],\n",
       "       [ 0.67450115, -0.58776353],\n",
       "       [ 0.55333328, -0.58776353],\n",
       "       [ 0.31099753, -1.05056946],\n",
       "       [ 2.24968346, -0.1249576 ],\n",
       "       [ 0.55333328,  0.80065426],\n",
       "       [ 0.67450115,  0.10644536],\n",
       "       [ 0.18982966, -0.1249576 ],\n",
       "       [ 1.2803405 ,  0.10644536],\n",
       "       [ 1.03800476,  0.10644536],\n",
       "       [ 1.2803405 ,  0.10644536],\n",
       "       [-0.05250608, -0.8191665 ],\n",
       "       [ 1.15917263,  0.33784833],\n",
       "       [ 1.03800476,  0.56925129],\n",
       "       [ 1.03800476, -0.1249576 ],\n",
       "       [ 0.55333328, -1.28197243],\n",
       "       [ 0.79566902, -0.1249576 ],\n",
       "       [ 0.4321654 ,  0.80065426],\n",
       "       [ 0.06866179, -0.1249576 ]])"
      ]
     },
     "execution_count": 13,
     "metadata": {},
     "output_type": "execute_result"
    }
   ],
   "source": [
    "from sklearn.preprocessing import scale\n",
    "x_scaled = scale(x)\n",
    "x_scaled"
   ]
  },
  {
   "cell_type": "markdown",
   "metadata": {},
   "source": [
    "# Clustering (scaled data)"
   ]
  },
  {
   "cell_type": "code",
   "execution_count": 15,
   "metadata": {},
   "outputs": [
    {
     "data": {
      "text/plain": [
       "<matplotlib.collections.PathCollection at 0x1bee7684748>"
      ]
     },
     "execution_count": 15,
     "metadata": {},
     "output_type": "execute_result"
    },
    {
     "data": {
      "image/png": "[encoded data removed]",
      "text/plain": [
       "<Figure size 432x288 with 1 Axes>"
      ]
     },
     "metadata": {
      "needs_background": "light"
     },
     "output_type": "display_data"
    }
   ],
   "source": [
    "kmeans_scaled = KMeans(2)\n",
    "kmeans_scaled.fit(x_scaled)\n",
    "data[\"cluser\"] = kmeans_scaled.fit_predict(x_scaled)\n",
    "plt.scatter(data[\"sepal_length\"], data[\"sepal_width\"], c=data[\"cluster\"], cmap=\"rainbow\")"
   ]
  },
  {
   "cell_type": "code",
   "execution_count": null,
   "metadata": {},
   "outputs": [],
   "source": []
  },
  {
   "cell_type": "code",
   "execution_count": null,
   "metadata": {},
   "outputs": [],
   "source": []
  },
  {
   "cell_type": "code",
   "execution_count": null,
   "metadata": {},
   "outputs": [],
   "source": []
  },
  {
   "cell_type": "markdown",
   "metadata": {},
   "source": [
    "## Take Advantage of the Elbow Method"
   ]
  },
  {
   "cell_type": "markdown",
   "metadata": {},
   "source": [
    "### WCSS"
   ]
  },
  {
   "cell_type": "code",
   "execution_count": 20,
   "metadata": {},
   "outputs": [
    {
     "data": {
      "text/plain": [
       "[300.0,\n",
       " 168.39262198361087,\n",
       " 103.78925176998135,\n",
       " 79.71916925065548,\n",
       " 62.09045788226272,\n",
       " 52.13668525175611,\n",
       " 44.56801502662469,\n",
       " 36.64135486902715,\n",
       " 30.53935939864178]"
      ]
     },
     "execution_count": 20,
     "metadata": {},
     "output_type": "execute_result"
    }
   ],
   "source": [
    "wcss = []\n",
    "for i in range(1, 10):\n",
    "    kmeans = KMeans(i)\n",
    "    kmeans.fit(x_scaled)\n",
    "    wcss.append(kmeans.inertia_)\n",
    "wcss"
   ]
  },
  {
   "cell_type": "markdown",
   "metadata": {},
   "source": [
    "### The Elbow Method"
   ]
  },
  {
   "cell_type": "code",
   "execution_count": null,
   "metadata": {},
   "outputs": [],
   "source": [
    "k_number = "
   ]
  },
  {
   "cell_type": "markdown",
   "metadata": {},
   "source": [
    "How many clusters are there?"
   ]
  }
 ],
 "metadata": {
  "kernelspec": {
   "display_name": "Python 3",
   "language": "python",
   "name": "python3"
  },
  "language_info": {
   "codemirror_mode": {
    "name": "ipython",
    "version": 3
   },
   "file_extension": ".py",
   "mimetype": "text/x-python",
   "name": "python",
   "nbconvert_exporter": "python",
   "pygments_lexer": "ipython3",
   "version": "3.7.6"
  }
 },
 "nbformat": 4,
 "nbformat_minor": 2
}
